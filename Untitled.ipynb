{
 "cells": [
  {
   "cell_type": "code",
   "execution_count": 1,
   "id": "2b0c68f4",
   "metadata": {},
   "outputs": [
    {
     "ename": "ModuleNotFoundError",
     "evalue": "No module named 'pomegranate'",
     "output_type": "error",
     "traceback": [
      "\u001b[1;31m---------------------------------------------------------------------------\u001b[0m",
      "\u001b[1;31mModuleNotFoundError\u001b[0m                       Traceback (most recent call last)",
      "\u001b[1;32m~\\AppData\\Local\\Temp/ipykernel_19108/79054490.py\u001b[0m in \u001b[0;36m<module>\u001b[1;34m\u001b[0m\n\u001b[0;32m      1\u001b[0m \u001b[1;32mimport\u001b[0m \u001b[0mmath\u001b[0m\u001b[1;33m\u001b[0m\u001b[1;33m\u001b[0m\u001b[0m\n\u001b[1;32m----> 2\u001b[1;33m \u001b[1;32mfrom\u001b[0m \u001b[0mpomegranate\u001b[0m \u001b[1;32mimport\u001b[0m \u001b[1;33m*\u001b[0m\u001b[1;33m\u001b[0m\u001b[1;33m\u001b[0m\u001b[0m\n\u001b[0m",
      "\u001b[1;31mModuleNotFoundError\u001b[0m: No module named 'pomegranate'"
     ]
    }
   ],
   "source": [
    "import math\n",
    "from pomegranate import *"
   ]
  },
  {
   "cell_type": "code",
   "execution_count": 18,
   "id": "bf13b89a",
   "metadata": {},
   "outputs": [
    {
     "data": {
      "text/plain": [
       "{\n",
       "    \"class\" : \"Distribution\",\n",
       "    \"dtype\" : \"str\",\n",
       "    \"name\" : \"DiscreteDistribution\",\n",
       "    \"parameters\" : [\n",
       "        {\n",
       "            \"A\" : 0.3333333333333333,\n",
       "            \"B\" : 0.3333333333333333,\n",
       "            \"C\" : 0.3333333333333333\n",
       "        }\n",
       "    ],\n",
       "    \"frozen\" : false\n",
       "}"
      ]
     },
     "execution_count": 18,
     "metadata": {},
     "output_type": "execute_result"
    }
   ],
   "source": [
    "guest =DiscreteDistribution( { 'A': 1./3, 'B': 1./3, 'C': 1./3 } )\n",
    "prize =DiscreteDistribution( { 'A': 1./3, 'B': 1./3, 'C': 1./3 } )\n",
    "guest"
   ]
  },
  {
   "cell_type": "code",
   "execution_count": 19,
   "id": "094af91c",
   "metadata": {},
   "outputs": [
    {
     "data": {
      "text/plain": [
       "{\n",
       "    \"class\" : \"Distribution\",\n",
       "    \"dtype\" : \"str\",\n",
       "    \"name\" : \"DiscreteDistribution\",\n",
       "    \"parameters\" : [\n",
       "        {\n",
       "            \"A\" : 0.3333333333333333,\n",
       "            \"B\" : 0.3333333333333333,\n",
       "            \"C\" : 0.3333333333333333\n",
       "        }\n",
       "    ],\n",
       "    \"frozen\" : false\n",
       "}"
      ]
     },
     "execution_count": 19,
     "metadata": {},
     "output_type": "execute_result"
    }
   ],
   "source": [
    "prize"
   ]
  },
  {
   "cell_type": "code",
   "execution_count": 20,
   "id": "bd1edd96",
   "metadata": {},
   "outputs": [],
   "source": [
    "monty =ConditionalProbabilityTable(\n",
    "[[ 'A', 'A', 'A', 0.0 ],\n",
    "[ 'A', 'A', 'B', 0.5 ],\n",
    "[ 'A', 'A', 'C', 0.5 ],\n",
    "[ 'A', 'B', 'A', 0.0 ],\n",
    "[ 'A', 'B', 'B', 0.0 ],\n",
    "[ 'A', 'B', 'C', 1.0 ],\n",
    "[ 'A', 'C', 'A', 0.0 ],\n",
    "[ 'A', 'C', 'B', 1.0 ],\n",
    "[ 'A', 'C', 'C', 0.0 ],\n",
    "[ 'B', 'A', 'A', 0.0 ],\n",
    "[ 'B', 'A', 'B', 0.0 ],\n",
    "[ 'B', 'A', 'C', 1.0 ],\n",
    "[ 'B', 'B', 'A', 0.5 ],\n",
    "[ 'B', 'B', 'B', 0.0 ],\n",
    "[ 'B', 'B', 'C', 0.5 ],\n",
    "[ 'B', 'C', 'A', 1.0 ],\n",
    "[ 'B', 'C', 'B', 0.0 ],\n",
    "[ 'B', 'C', 'C', 0.0 ],\n",
    "[ 'C', 'A', 'A', 0.0 ],\n",
    "[ 'C', 'A', 'B', 1.0 ],\n",
    "[ 'C', 'A', 'C', 0.0 ],\n",
    "[ 'C', 'B', 'A', 1.0 ],\n",
    "[ 'C', 'B', 'B', 0.0 ],\n",
    "[ 'C', 'B', 'C', 0.0 ],\n",
    "[ 'C', 'C', 'A', 0.5 ],\n",
    "[ 'C', 'C', 'B', 0.5 ],\n",
    "[ 'C', 'C', 'C', 0.0 ]], [guest, prize] )"
   ]
  },
  {
   "cell_type": "code",
   "execution_count": 21,
   "id": "12d87e88",
   "metadata": {},
   "outputs": [],
   "source": [
    "d1 = State( guest, name=\"guest\" )\n",
    "d2 = State( prize, name=\"prize\" )\n",
    "d3 = State( monty, name=\"monty\" )"
   ]
  },
  {
   "cell_type": "code",
   "execution_count": 23,
   "id": "418ad876",
   "metadata": {},
   "outputs": [],
   "source": [
    "network = BayesianNetwork( \"Solving the Monty Hall Problem With Bayesian Networks\" )\n",
    "network.add_states(d1, d2, d3)\n",
    "network.add_edge(d1, d3)\n",
    "network.add_edge(d2, d3)\n",
    "network.bake()"
   ]
  },
  {
   "cell_type": "code",
   "execution_count": 24,
   "id": "8cb70df7",
   "metadata": {},
   "outputs": [
    {
     "name": "stdout",
     "output_type": "stream",
     "text": [
      "guesttAnprizet{\n",
      "    \"class\" : \"Distribution\",\n",
      "    \"dtype\" : \"str\",\n",
      "    \"name\" : \"DiscreteDistribution\",\n",
      "    \"parameters\" : [\n",
      "        {\n",
      "            \"A\" : 0.3333333333333333,\n",
      "            \"B\" : 0.3333333333333333,\n",
      "            \"C\" : 0.3333333333333333\n",
      "        }\n",
      "    ],\n",
      "    \"frozen\" : false\n",
      "}nmontyt{\n",
      "    \"class\" : \"Distribution\",\n",
      "    \"dtype\" : \"str\",\n",
      "    \"name\" : \"DiscreteDistribution\",\n",
      "    \"parameters\" : [\n",
      "        {\n",
      "            \"C\" : 0.49999999999999983,\n",
      "            \"A\" : 0.0,\n",
      "            \"B\" : 0.49999999999999983\n",
      "        }\n",
      "    ],\n",
      "    \"frozen\" : false\n",
      "}\n"
     ]
    }
   ],
   "source": [
    "beliefs = network.predict_proba({ 'guest' : 'A' })\n",
    "beliefs = map(str, beliefs)\n",
    "print(\"n\".join( \"{}t{}\".format( state.name, belief ) for state, belief in zip( network.states, beliefs ) ))"
   ]
  },
  {
   "cell_type": "code",
   "execution_count": 25,
   "id": "eb27acae",
   "metadata": {},
   "outputs": [
    {
     "name": "stdout",
     "output_type": "stream",
     "text": [
      "guesttBnprizet{\n",
      "    \"class\" : \"Distribution\",\n",
      "    \"dtype\" : \"str\",\n",
      "    \"name\" : \"DiscreteDistribution\",\n",
      "    \"parameters\" : [\n",
      "        {\n",
      "            \"A\" : 0.3333333333333333,\n",
      "            \"B\" : 0.3333333333333333,\n",
      "            \"C\" : 0.3333333333333333\n",
      "        }\n",
      "    ],\n",
      "    \"frozen\" : false\n",
      "}nmontyt{\n",
      "    \"class\" : \"Distribution\",\n",
      "    \"dtype\" : \"str\",\n",
      "    \"name\" : \"DiscreteDistribution\",\n",
      "    \"parameters\" : [\n",
      "        {\n",
      "            \"C\" : 0.49999999999999994,\n",
      "            \"A\" : 0.49999999999999994,\n",
      "            \"B\" : 0.0\n",
      "        }\n",
      "    ],\n",
      "    \"frozen\" : false\n",
      "}\n"
     ]
    }
   ],
   "source": [
    "beliefs = network.predict_proba({ 'guest' : 'B' })\n",
    "beliefs = map(str, beliefs)\n",
    "print(\"n\".join( \"{}t{}\".format( state.name, belief ) for state, belief in zip( network.states, beliefs ) ))"
   ]
  },
  {
   "cell_type": "code",
   "execution_count": 26,
   "id": "2046126c",
   "metadata": {},
   "outputs": [
    {
     "name": "stdout",
     "output_type": "stream",
     "text": [
      "guesttCnprizet{\n",
      "    \"class\" : \"Distribution\",\n",
      "    \"dtype\" : \"str\",\n",
      "    \"name\" : \"DiscreteDistribution\",\n",
      "    \"parameters\" : [\n",
      "        {\n",
      "            \"A\" : 0.3333333333333333,\n",
      "            \"B\" : 0.3333333333333333,\n",
      "            \"C\" : 0.3333333333333333\n",
      "        }\n",
      "    ],\n",
      "    \"frozen\" : false\n",
      "}nmontyt{\n",
      "    \"class\" : \"Distribution\",\n",
      "    \"dtype\" : \"str\",\n",
      "    \"name\" : \"DiscreteDistribution\",\n",
      "    \"parameters\" : [\n",
      "        {\n",
      "            \"C\" : 0.0,\n",
      "            \"A\" : 0.49999999999999994,\n",
      "            \"B\" : 0.49999999999999994\n",
      "        }\n",
      "    ],\n",
      "    \"frozen\" : false\n",
      "}\n"
     ]
    }
   ],
   "source": [
    "beliefs = network.predict_proba({ 'guest' : 'C' })\n",
    "beliefs = map(str, beliefs)\n",
    "print(\"n\".join( \"{}t{}\".format( state.name, belief ) for state, belief in zip( network.states, beliefs ) ))"
   ]
  },
  {
   "cell_type": "code",
   "execution_count": 30,
   "id": "90445cd8",
   "metadata": {},
   "outputs": [
    {
     "name": "stdout",
     "output_type": "stream",
     "text": [
      "guestt{\n",
      "    \"class\" : \"Distribution\",\n",
      "    \"dtype\" : \"str\",\n",
      "    \"name\" : \"DiscreteDistribution\",\n",
      "    \"parameters\" : [\n",
      "        {\n",
      "            \"A\" : 0.3333333333333333,\n",
      "            \"B\" : 0.3333333333333333,\n",
      "            \"C\" : 0.3333333333333333\n",
      "        }\n",
      "    ],\n",
      "    \"frozen\" : false\n",
      "}nprizetBnmontyt{\n",
      "    \"class\" : \"Distribution\",\n",
      "    \"dtype\" : \"str\",\n",
      "    \"name\" : \"DiscreteDistribution\",\n",
      "    \"parameters\" : [\n",
      "        {\n",
      "            \"C\" : 0.49999999999999994,\n",
      "            \"A\" : 0.49999999999999994,\n",
      "            \"B\" : 0.0\n",
      "        }\n",
      "    ],\n",
      "    \"frozen\" : false\n",
      "}\n"
     ]
    }
   ],
   "source": [
    "beliefs = network.predict_proba({'prize' : 'B' })\n",
    "beliefs = map(str, beliefs)\n",
    "print(\"n\".join( \"{}t{}\".format( state.name, belief ) for state, belief in zip( network.states, beliefs ) ))"
   ]
  },
  {
   "cell_type": "code",
   "execution_count": 31,
   "id": "988a3083",
   "metadata": {},
   "outputs": [
    {
     "name": "stdout",
     "output_type": "stream",
     "text": [
      "guesttAnprizet{\n",
      "    \"class\" : \"Distribution\",\n",
      "    \"dtype\" : \"str\",\n",
      "    \"name\" : \"DiscreteDistribution\",\n",
      "    \"parameters\" : [\n",
      "        {\n",
      "            \"A\" : 0.3333333333333334,\n",
      "            \"B\" : 0.0,\n",
      "            \"C\" : 0.6666666666666664\n",
      "        }\n",
      "    ],\n",
      "    \"frozen\" : false\n",
      "}nmontytB\n"
     ]
    }
   ],
   "source": [
    "beliefs = network.predict_proba({'guest' : 'A', 'monty' : 'B'})\n",
    "print(\"n\".join( \"{}t{}\".format( state.name, str(belief) ) for state, belief in zip( network.states, beliefs )))\n",
    " "
   ]
  },
  {
   "cell_type": "code",
   "execution_count": 32,
   "id": "57d25c28",
   "metadata": {},
   "outputs": [],
   "source": [
    "#https://tech-es.netlify.app/articles/es510526/index.html"
   ]
  },
  {
   "cell_type": "code",
   "execution_count": null,
   "id": "5d04fcda",
   "metadata": {},
   "outputs": [],
   "source": []
  }
 ],
 "metadata": {
  "kernelspec": {
   "display_name": "Python 3 (ipykernel)",
   "language": "python",
   "name": "python3"
  },
  "language_info": {
   "codemirror_mode": {
    "name": "ipython",
    "version": 3
   },
   "file_extension": ".py",
   "mimetype": "text/x-python",
   "name": "python",
   "nbconvert_exporter": "python",
   "pygments_lexer": "ipython3",
   "version": "3.9.7"
  }
 },
 "nbformat": 4,
 "nbformat_minor": 5
}
