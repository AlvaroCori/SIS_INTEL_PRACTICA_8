{
 "cells": [
  {
   "cell_type": "markdown",
   "id": "f80e6647",
   "metadata": {},
   "source": [
    "# Neuronal Network Inference\n",
    "#### Practice 8\n",
    "#### Alvaro Bryan Cori Sanchez\n",
    "#### Mauricio Alexander Balderrama Ali"
   ]
  },
  {
   "cell_type": "code",
   "execution_count": 1,
   "id": "ac7175e2",
   "metadata": {},
   "outputs": [
    {
     "name": "stderr",
     "output_type": "stream",
     "text": [
      "WARNING (theano.tensor.blas): Using NumPy C-API based implementation for BLAS functions.\n"
     ]
    },
    {
     "name": "stdout",
     "output_type": "stream",
     "text": [
      "Running on PyMC3 v3.11.4\n"
     ]
    }
   ],
   "source": [
    "from warnings import filterwarnings\n",
    "\n",
    "import arviz as az\n",
    "import matplotlib.pyplot as plt\n",
    "import numpy as np\n",
    "import pymc3 as pm\n",
    "import seaborn as sns\n",
    "import sklearn\n",
    "import theano\n",
    "import theano.tensor as T\n",
    "\n",
    "from sklearn import datasets\n",
    "from sklearn.datasets import make_moons\n",
    "from sklearn.model_selection import train_test_split\n",
    "from sklearn.preprocessing import scale\n",
    "\n",
    "print(f\"Running on PyMC3 v{pm.__version__}\")"
   ]
  },
  {
   "cell_type": "code",
   "execution_count": 2,
   "id": "2a500e3c",
   "metadata": {},
   "outputs": [],
   "source": [
    "import pandas as pd"
   ]
  },
  {
   "cell_type": "markdown",
   "id": "8357f825",
   "metadata": {},
   "source": [
    "72 pixels default to 144, theano float64 settings, ignore warnings and change the color of graphics."
   ]
  },
  {
   "cell_type": "code",
   "execution_count": 3,
   "id": "ad6c2c31",
   "metadata": {},
   "outputs": [],
   "source": [
    "%config InlineBackend.figure_format = 'retina'\n",
    "floatX = theano.config.floatX\n",
    "filterwarnings(\"ignore\")\n",
    "sns.set_style(\"white\")"
   ]
  },
  {
   "cell_type": "markdown",
   "id": "d9a2fa3e",
   "metadata": {},
   "source": [
    "Read the datas in a DataFrame"
   ]
  },
  {
   "cell_type": "code",
   "execution_count": 4,
   "id": "836f5ffc",
   "metadata": {},
   "outputs": [
    {
     "data": {
      "text/html": [
       "<div>\n",
       "<style scoped>\n",
       "    .dataframe tbody tr th:only-of-type {\n",
       "        vertical-align: middle;\n",
       "    }\n",
       "\n",
       "    .dataframe tbody tr th {\n",
       "        vertical-align: top;\n",
       "    }\n",
       "\n",
       "    .dataframe thead th {\n",
       "        text-align: right;\n",
       "    }\n",
       "</style>\n",
       "<table border=\"1\" class=\"dataframe\">\n",
       "  <thead>\n",
       "    <tr style=\"text-align: right;\">\n",
       "      <th></th>\n",
       "      <th>glucose</th>\n",
       "      <th>bloodpressure</th>\n",
       "      <th>diabetes</th>\n",
       "    </tr>\n",
       "  </thead>\n",
       "  <tbody>\n",
       "    <tr>\n",
       "      <th>0</th>\n",
       "      <td>40</td>\n",
       "      <td>85</td>\n",
       "      <td>0</td>\n",
       "    </tr>\n",
       "    <tr>\n",
       "      <th>1</th>\n",
       "      <td>40</td>\n",
       "      <td>92</td>\n",
       "      <td>0</td>\n",
       "    </tr>\n",
       "    <tr>\n",
       "      <th>2</th>\n",
       "      <td>45</td>\n",
       "      <td>63</td>\n",
       "      <td>1</td>\n",
       "    </tr>\n",
       "    <tr>\n",
       "      <th>3</th>\n",
       "      <td>45</td>\n",
       "      <td>80</td>\n",
       "      <td>0</td>\n",
       "    </tr>\n",
       "    <tr>\n",
       "      <th>4</th>\n",
       "      <td>40</td>\n",
       "      <td>73</td>\n",
       "      <td>1</td>\n",
       "    </tr>\n",
       "  </tbody>\n",
       "</table>\n",
       "</div>"
      ],
      "text/plain": [
       "   glucose  bloodpressure  diabetes\n",
       "0       40             85         0\n",
       "1       40             92         0\n",
       "2       45             63         1\n",
       "3       45             80         0\n",
       "4       40             73         1"
      ]
     },
     "execution_count": 4,
     "metadata": {},
     "output_type": "execute_result"
    }
   ],
   "source": [
    "datas = pd.read_csv(\"Naive-Bayes-Classification-Data.csv\")\n",
    "datas.head()"
   ]
  },
  {
   "cell_type": "code",
   "execution_count": 5,
   "id": "347da722",
   "metadata": {},
   "outputs": [],
   "source": [
    "X = datas.iloc[:,[0,1]].values\n",
    "Y = datas.iloc[:,-1].values"
   ]
  },
  {
   "cell_type": "code",
   "execution_count": 6,
   "id": "5f63aa2c",
   "metadata": {},
   "outputs": [
    {
     "data": {
      "image/png": "[encoded data removed]",
      "text/plain": [
       "<Figure size 432x288 with 1 Axes>"
      ]
     },
     "metadata": {
      "image/png": {
       "height": 276,
       "width": 386
      }
     },
     "output_type": "display_data"
    }
   ],
   "source": [
    "fig, ax = plt.subplots()\n",
    "ax.scatter(X[Y == 0, 0], X[Y == 0, 1], color=\"yellow\",label=\"Negativo\")\n",
    "ax.scatter(X[Y == 1, 0], X[Y == 1, 1], color=\"red\", label=\"Positivo\")\n",
    "sns.despine()\n",
    "ax.legend()\n",
    "ax.set(xlabel=\"Glucosa\", ylabel=\"Presion Sanguinea\", title=\"Prediccion con \");"
   ]
  },
  {
   "cell_type": "markdown",
   "id": "c95ba96d",
   "metadata": {},
   "source": [
    "Scale is a function that put the datas in a range.\n",
    "z = (x - u) / s"
   ]
  },
  {
   "cell_type": "code",
   "execution_count": 7,
   "id": "a39adcaa",
   "metadata": {},
   "outputs": [
    {
     "data": {
      "text/plain": [
       "((720, 2), (180, 2), (720,), (180,))"
      ]
     },
     "execution_count": 7,
     "metadata": {},
     "output_type": "execute_result"
    }
   ],
   "source": [
    "X = scale(X)\n",
    "X = X.astype(floatX)\n",
    "Y = Y.astype(floatX)\n",
    "X_train, X_test, Y_train, Y_test = train_test_split(X, Y, test_size=0.2)\n",
    "X_train.shape, X_test.shape, Y_train.shape, Y_test.shape"
   ]
  },
  {
   "cell_type": "markdown",
   "id": "05a2a348",
   "metadata": {},
   "source": [
    "The function that provide a Red Neuronal with a configuration.\n",
    "\n",
    "Here the layers are compuest by a normal distribution, every layer have a name, mu = 0, sigma = 1, the shape is the same that the testval that is an aleatory matrix of values. "
   ]
  },
  {
   "cell_type": "code",
   "execution_count": 8,
   "id": "bea97ba4",
   "metadata": {},
   "outputs": [],
   "source": [
    "def bayesian_network(X_train, Y_train):\n",
    "    # Numero de neuronas\n",
    "    n_hidden = 4\n",
    "    # Iniciamos las capas con numeros aleatorios\n",
    "    init_1 = np.random.randn(X.shape[1], n_hidden).astype(floatX)\n",
    "    init_2 = np.random.randn(n_hidden, n_hidden).astype(floatX)\n",
    "    init_out = np.random.randn(n_hidden).astype(floatX)\n",
    "\n",
    "    with pm.Model() as neural_network:\n",
    "        ann_input = pm.Data(\"ann_input\", X_train)\n",
    "        ann_output = pm.Data(\"ann_output\", Y_train)\n",
    "\n",
    "        # La capa inicial con una oculta\n",
    "        weights_in_1 = pm.Normal(\"w_in_1\", 0, sigma=1, shape=(X.shape[1], n_hidden), testval=init_1)\n",
    "        # capa oculta\n",
    "        weights_1_2 = pm.Normal(\"w_1_2\", 0, sigma=1, shape=(n_hidden, n_hidden), testval=init_2)\n",
    "        # capa de salida\n",
    "        weights_2_out = pm.Normal(\"w_2_out\", 0, sigma=1, shape=(n_hidden,), testval=init_out)\n",
    "\n",
    "        # Construir las redes neuronales usando tanh como funcion de activacion\n",
    "        act_1 = pm.math.tanh(pm.math.dot(ann_input, weights_in_1))\n",
    "        act_2 = pm.math.tanh(pm.math.dot(act_1, weights_1_2))\n",
    "        act_out = pm.math.sigmoid(pm.math.dot(act_2, weights_2_out))\n",
    "\n",
    "        #esto nos permite los lowbatches\n",
    "        out = pm.Bernoulli(\"out\",act_out,observed=ann_output,total_size=Y_train.shape[0])\n",
    "    return neural_network\n",
    "\n",
    "\n",
    "neural_network = bayesian_network(X_train, Y_train)"
   ]
  },
  {
   "cell_type": "markdown",
   "id": "bdcd7abc",
   "metadata": {},
   "source": [
    "The variational inference (VI) API is focused on approximating posterior distributions for Bayesian models. Common use cases to which this module can be applied include:\n",
    "\n",
    "* Sampling from model posterior and computing arbitrary expressions\n",
    "\n",
    "* Conduct Monte Carlo approximation of expectation, variance, and other statistics\n",
    "\n",
    "* Remove symbolic dependence on PyMC3 random nodes and evaluate expressions (using eval)\n",
    "\n",
    "* Provide a bridge to arbitrary Theano code"
   ]
  },
  {
   "cell_type": "code",
   "execution_count": 9,
   "id": "778fdf7d",
   "metadata": {},
   "outputs": [
    {
     "data": {
      "text/html": [
       "\n",
       "    <div>\n",
       "        <style>\n",
       "            /* Turns off some styling */\n",
       "            progress {\n",
       "                /* gets rid of default border in Firefox and Opera. */\n",
       "                border: none;\n",
       "                /* Needs to be in here for Safari polyfill so background images work as expected. */\n",
       "                background-size: auto;\n",
       "            }\n",
       "            .progress-bar-interrupted, .progress-bar-interrupted::-webkit-progress-bar {\n",
       "                background: #F44336;\n",
       "            }\n",
       "        </style>\n",
       "      <progress value='1600' class='' max='1600' style='width:300px; height:20px; vertical-align: middle;'></progress>\n",
       "      100.00% [1600/1600 00:02<00:00 Average Loss = 339.5]\n",
       "    </div>\n",
       "    "
      ],
      "text/plain": [
       "<IPython.core.display.HTML object>"
      ]
     },
     "metadata": {},
     "output_type": "display_data"
    },
    {
     "name": "stderr",
     "output_type": "stream",
     "text": [
      "Finished [100%]: Average Loss = 339.01\n"
     ]
    },
    {
     "name": "stdout",
     "output_type": "stream",
     "text": [
      "Wall time: 26.4 s\n"
     ]
    }
   ],
   "source": [
    "%%time\n",
    "\n",
    "with neural_network:\n",
    "    inference = pm.ADVI()\n",
    "    approx = pm.fit(n=1600, method=inference)"
   ]
  },
  {
   "cell_type": "markdown",
   "id": "045783c3",
   "metadata": {},
   "source": [
    "Number of posterior predictive samples to generate. Defaults to one posterior predictive sample per posterior sample, that is, the number of draws times the number of chains."
   ]
  },
  {
   "cell_type": "code",
   "execution_count": 10,
   "id": "e5792cc8",
   "metadata": {},
   "outputs": [],
   "source": [
    "trace = approx.sample(draws=5000)"
   ]
  },
  {
   "cell_type": "code",
   "execution_count": 21,
   "id": "fbf03274",
   "metadata": {},
   "outputs": [],
   "source": [
    "# iniciar matriz\n",
    "x = T.matrix(\"X\")\n",
    "# iniciar n con un vector\n",
    "n = T.iscalar(\"n\")\n",
    "#Los test del valor o se puede aplicar set theano.config.compute_test_value = 'off'\n",
    "x.tag.test_value = np.empty_like(X_train[:10])\n",
    "n.tag.test_value = 100\n",
    "_sample_proba = approx.sample_node(\n",
    "    neural_network.out.distribution.p, size=n, more_replacements={neural_network[\"ann_input\"]: x}\n",
    ")\n",
    "# Compilarlo\n",
    "# No es necesario actualizar para aproximar generador random\n",
    "sample_proba = theano.function([x, n], _sample_proba)\n",
    "\n",
    "# crear bechmark funciones\n",
    "def production_step1():\n",
    "    pm.set_data(new_data={\"ann_input\": X_test, \"ann_output\": Y_test}, model=neural_network)\n",
    "    ppc = pm.sample_posterior_predictive(trace, samples=500, progressbar=False, model=neural_network)\n",
    "    #usamos una probabilidad mayor a la 0.5 para asumir que el resultado es 1 \n",
    "    pred = ppc[\"out\"].mean(axis=0) > 0.5\n",
    "\n",
    "def production_step2():\n",
    "    sample_proba(X_test, 500).mean(0) > 0.5"
   ]
  },
  {
   "cell_type": "markdown",
   "id": "5b474a19",
   "metadata": {},
   "source": [
    "This module provides a simple way to time small bits of Python code."
   ]
  },
  {
   "cell_type": "code",
   "execution_count": 12,
   "id": "f861fbf1",
   "metadata": {},
   "outputs": [
    {
     "name": "stdout",
     "output_type": "stream",
     "text": [
      "9.2 s ± 898 ms per loop (mean ± std. dev. of 7 runs, 1 loop each)\n"
     ]
    }
   ],
   "source": [
    "%timeit production_step1()"
   ]
  },
  {
   "cell_type": "code",
   "execution_count": 13,
   "id": "29a4dea9",
   "metadata": {},
   "outputs": [
    {
     "name": "stdout",
     "output_type": "stream",
     "text": [
      "67.3 ms ± 4.88 ms per loop (mean ± std. dev. of 7 runs, 10 loops each)\n"
     ]
    }
   ],
   "source": [
    "%timeit production_step2()"
   ]
  },
  {
   "cell_type": "code",
   "execution_count": 33,
   "id": "92dfe9a1",
   "metadata": {},
   "outputs": [
    {
     "data": {
      "text/plain": [
       "(160, 180)"
      ]
     },
     "execution_count": 33,
     "metadata": {},
     "output_type": "execute_result"
    }
   ],
   "source": [
    "pred = sample_proba(X_test, 1).mean(0) > 0.5\n",
    "count = 0\n",
    "i = 0\n",
    "lim = X_test.shape[0]\n",
    "while(i<lim):\n",
    "    if (int(pred[i])==int(Y_test[i])):\n",
    "        count = count + 1\n",
    "    i = i + 1\n",
    "count,lim"
   ]
  },
  {
   "cell_type": "code",
   "execution_count": 37,
   "id": "e70b1bf8",
   "metadata": {},
   "outputs": [],
   "source": [
    "tests = pd.read_csv(\"outputs.csv\")\n",
    "X1 = tests.iloc[:,[0,1]].values\n",
    "Y1 = tests.iloc[:,-1].values\n",
    "X1 = scale(X1)\n",
    "X1 = X1.astype(floatX)\n",
    "Y1 = Y1.astype(floatX)\n",
    "Y1 = tests.iloc[:,-1].values"
   ]
  },
  {
   "cell_type": "code",
   "execution_count": 39,
   "id": "32164d3b",
   "metadata": {},
   "outputs": [
    {
     "data": {
      "text/plain": [
       "(82, 96)"
      ]
     },
     "execution_count": 39,
     "metadata": {},
     "output_type": "execute_result"
    }
   ],
   "source": [
    "pred = sample_proba(X1, 1).mean(0) > 0.5\n",
    "count = 0\n",
    "i = 0\n",
    "lim = X1.shape[0]\n",
    "while(i<lim):\n",
    "    if (int(pred[i])==int(Y1[i])):\n",
    "        count = count + 1\n",
    "    i = i + 1\n",
    "count,lim"
   ]
  },
  {
   "cell_type": "markdown",
   "id": "9143209a",
   "metadata": {},
   "source": [
    "## Bibliografia\n",
    "### Escalado (scaled)\n",
    "#### https://scikit-learn.org/stable/modules/generated/sklearn.preprocessing.StandardScaler.html\n",
    "### Red Neuronal Convulocional\n",
    "#### https://docs.pymc.io/en/stable/pymc-examples/examples/variational_inference/bayesian_neural_network_advi.html\n",
    "### Pandas\n",
    "#### https://pandas.pydata.org/pandas-docs/version/0.25.1/reference/api/pandas.DataFrame.as_matrix.html\n",
    "### ADVI\n",
    "#### https://docs.pymc.io/en/stable/Probability_Distributions.html\n",
    "### Inference Simplimg\n",
    "#### https://docs.pymc.io/en/v3/api/inference.html\n",
    "### Timeit command\n",
    "#### https://docs.python.org/es/3/library/timeit.html\n"
   ]
  },
  {
   "cell_type": "code",
   "execution_count": null,
   "id": "5329878a",
   "metadata": {},
   "outputs": [],
   "source": []
  }
 ],
 "metadata": {
  "kernelspec": {
   "display_name": "Python 3 (ipykernel)",
   "language": "python",
   "name": "python3"
  },
  "language_info": {
   "codemirror_mode": {
    "name": "ipython",
    "version": 3
   },
   "file_extension": ".py",
   "mimetype": "text/x-python",
   "name": "python",
   "nbconvert_exporter": "python",
   "pygments_lexer": "ipython3",
   "version": "3.9.7"
  }
 },
 "nbformat": 4,
 "nbformat_minor": 5
}
