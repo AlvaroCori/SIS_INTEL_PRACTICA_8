{
 "cells": [
  {
   "cell_type": "code",
   "execution_count": 240,
   "id": "ac7175e2",
   "metadata": {},
   "outputs": [
    {
     "name": "stdout",
     "output_type": "stream",
     "text": [
      "Running on PyMC3 v3.11.4\n"
     ]
    }
   ],
   "source": [
    "from warnings import filterwarnings\n",
    "\n",
    "import arviz as az\n",
    "import matplotlib.pyplot as plt\n",
    "import numpy as np\n",
    "import pymc3 as pm\n",
    "import seaborn as sns\n",
    "import sklearn\n",
    "import theano\n",
    "import theano.tensor as T\n",
    "\n",
    "from sklearn import datasets\n",
    "from sklearn.datasets import make_moons\n",
    "from sklearn.model_selection import train_test_split\n",
    "from sklearn.preprocessing import scale\n",
    "\n",
    "print(f\"Running on PyMC3 v{pm.__version__}\")"
   ]
  },
  {
   "cell_type": "code",
   "execution_count": 241,
   "id": "2a500e3c",
   "metadata": {},
   "outputs": [],
   "source": [
    "import pandas as pd"
   ]
  },
  {
   "cell_type": "code",
   "execution_count": 242,
   "id": "ad6c2c31",
   "metadata": {},
   "outputs": [],
   "source": [
    "%config InlineBackend.figure_format = 'retina'\n",
    "floatX = theano.config.floatX\n",
    "filterwarnings(\"ignore\")\n",
    "sns.set_style(\"white\")"
   ]
  },
  {
   "cell_type": "code",
   "execution_count": 243,
   "id": "836f5ffc",
   "metadata": {},
   "outputs": [
    {
     "data": {
      "text/html": [
       "<div>\n",
       "<style scoped>\n",
       "    .dataframe tbody tr th:only-of-type {\n",
       "        vertical-align: middle;\n",
       "    }\n",
       "\n",
       "    .dataframe tbody tr th {\n",
       "        vertical-align: top;\n",
       "    }\n",
       "\n",
       "    .dataframe thead th {\n",
       "        text-align: right;\n",
       "    }\n",
       "</style>\n",
       "<table border=\"1\" class=\"dataframe\">\n",
       "  <thead>\n",
       "    <tr style=\"text-align: right;\">\n",
       "      <th></th>\n",
       "      <th>glucose</th>\n",
       "      <th>bloodpressure</th>\n",
       "      <th>diabetes</th>\n",
       "    </tr>\n",
       "  </thead>\n",
       "  <tbody>\n",
       "    <tr>\n",
       "      <th>0</th>\n",
       "      <td>40</td>\n",
       "      <td>85</td>\n",
       "      <td>0</td>\n",
       "    </tr>\n",
       "    <tr>\n",
       "      <th>1</th>\n",
       "      <td>40</td>\n",
       "      <td>92</td>\n",
       "      <td>0</td>\n",
       "    </tr>\n",
       "    <tr>\n",
       "      <th>2</th>\n",
       "      <td>45</td>\n",
       "      <td>63</td>\n",
       "      <td>1</td>\n",
       "    </tr>\n",
       "    <tr>\n",
       "      <th>3</th>\n",
       "      <td>45</td>\n",
       "      <td>80</td>\n",
       "      <td>0</td>\n",
       "    </tr>\n",
       "    <tr>\n",
       "      <th>4</th>\n",
       "      <td>40</td>\n",
       "      <td>73</td>\n",
       "      <td>1</td>\n",
       "    </tr>\n",
       "  </tbody>\n",
       "</table>\n",
       "</div>"
      ],
      "text/plain": [
       "   glucose  bloodpressure  diabetes\n",
       "0       40             85         0\n",
       "1       40             92         0\n",
       "2       45             63         1\n",
       "3       45             80         0\n",
       "4       40             73         1"
      ]
     },
     "execution_count": 243,
     "metadata": {},
     "output_type": "execute_result"
    }
   ],
   "source": [
    "datas = pd.read_csv(\"Naive-Bayes-Classification-Data.csv\")\n",
    "datas.head()"
   ]
  },
  {
   "cell_type": "code",
   "execution_count": 244,
   "id": "a39adcaa",
   "metadata": {},
   "outputs": [
    {
     "data": {
      "text/plain": [
       "((720, 2), (180, 2), (720,), (180,))"
      ]
     },
     "execution_count": 244,
     "metadata": {},
     "output_type": "execute_result"
    }
   ],
   "source": [
    "X = datas.iloc[:,[0,1]].values\n",
    "Y = datas.iloc[:,-1].values\n",
    "X = scale(X)\n",
    "X = X.astype(floatX)\n",
    "Y = Y.astype(floatX)\n",
    "X_train, X_test, Y_train, Y_test = train_test_split(X, Y, test_size=0.2)\n",
    "X_train.shape, X_test.shape, Y_train.shape, Y_test.shape"
   ]
  },
  {
   "cell_type": "code",
   "execution_count": 245,
   "id": "7ca69fa7",
   "metadata": {},
   "outputs": [
    {
     "data": {
      "image/png": "[encoded data removed]",
      "text/plain": [
       "<Figure size 432x288 with 1 Axes>"
      ]
     },
     "metadata": {
      "image/png": {
       "height": 276,
       "width": 381
      }
     },
     "output_type": "display_data"
    }
   ],
   "source": [
    "fig, ax = plt.subplots()\n",
    "ax.scatter(X[Y == 0, 0], X[Y == 0, 1], color=\"yellow\",label=\"Negativo\")\n",
    "ax.scatter(X[Y == 1, 0], X[Y == 1, 1], color=\"red\", label=\"Positivo\")\n",
    "sns.despine()\n",
    "ax.legend()\n",
    "ax.set(xlabel=\"Glucosa\", ylabel=\"Presion Sanguinea\", title=\"Prediccion con \");"
   ]
  },
  {
   "cell_type": "code",
   "execution_count": 246,
   "id": "bea97ba4",
   "metadata": {},
   "outputs": [],
   "source": [
    "def construct_nn(X_train, Y_train):\n",
    "    n_hidden = 1\n",
    "\n",
    "    # Iniciamos las capas con numeros aleatorios\n",
    "    init_1 = np.random.randn(X.shape[1], n_hidden).astype(floatX)\n",
    "    init_2 = np.random.randn(n_hidden, n_hidden).astype(floatX)\n",
    "    init_out = np.random.randn(n_hidden).astype(floatX)\n",
    "\n",
    "    with pm.Model() as neural_network:\n",
    "        ann_input = pm.Data(\"ann_input\", X_train)\n",
    "        ann_output = pm.Data(\"ann_output\", Y_train)\n",
    "\n",
    "        # La capa inicial con una oculta\n",
    "        weights_in_1 = pm.Normal(\"w_in_1\", 0, sigma=1, shape=(X.shape[1], n_hidden), testval=init_1)\n",
    "        # capa oculta\n",
    "        weights_1_2 = pm.Normal(\"w_1_2\", 0, sigma=1, shape=(n_hidden, n_hidden), testval=init_2)\n",
    "        # capa de salida\n",
    "        weights_2_out = pm.Normal(\"w_2_out\", 0, sigma=1, shape=(n_hidden,), testval=init_out)\n",
    "\n",
    "        # Build neural-network using tanh activation function\n",
    "        act_1 = pm.math.tanh(pm.math.dot(ann_input, weights_in_1))\n",
    "        act_2 = pm.math.tanh(pm.math.dot(act_1, weights_1_2))\n",
    "        act_out = pm.math.sigmoid(pm.math.dot(act_2, weights_2_out))\n",
    "\n",
    "        # Binary classification -> Bernoulli likelihood\n",
    "        out = pm.Bernoulli(\n",
    "            \"out\",\n",
    "            act_out,\n",
    "            observed=ann_output,\n",
    "            total_size=Y_train.shape[0],  # IMPORTANT for minibatches\n",
    "        )\n",
    "    return neural_network\n",
    "\n",
    "\n",
    "neural_network = construct_nn(X_train, Y_train)"
   ]
  },
  {
   "cell_type": "code",
   "execution_count": 247,
   "id": "778fdf7d",
   "metadata": {},
   "outputs": [
    {
     "data": {
      "text/html": [
       "\n",
       "    <div>\n",
       "        <style>\n",
       "            /* Turns off some styling */\n",
       "            progress {\n",
       "                /* gets rid of default border in Firefox and Opera. */\n",
       "                border: none;\n",
       "                /* Needs to be in here for Safari polyfill so background images work as expected. */\n",
       "                background-size: auto;\n",
       "            }\n",
       "            .progress-bar-interrupted, .progress-bar-interrupted::-webkit-progress-bar {\n",
       "                background: #F44336;\n",
       "            }\n",
       "        </style>\n",
       "      <progress value='160000' class='' max='160000' style='width:300px; height:20px; vertical-align: middle;'></progress>\n",
       "      100.00% [160000/160000 02:16<00:00 Average Loss = 165.67]\n",
       "    </div>\n",
       "    "
      ],
      "text/plain": [
       "<IPython.core.display.HTML object>"
      ]
     },
     "metadata": {},
     "output_type": "display_data"
    },
    {
     "name": "stderr",
     "output_type": "stream",
     "text": [
      "Finished [100%]: Average Loss = 165.69\n"
     ]
    },
    {
     "name": "stdout",
     "output_type": "stream",
     "text": [
      "Wall time: 2min 18s\n"
     ]
    }
   ],
   "source": [
    "%%time\n",
    "\n",
    "with neural_network:\n",
    "    inference = pm.ADVI()\n",
    "    approx = pm.fit(n=160000, method=inference)"
   ]
  },
  {
   "cell_type": "code",
   "execution_count": 248,
   "id": "e5792cc8",
   "metadata": {},
   "outputs": [],
   "source": [
    "trace = approx.sample(draws=5000)"
   ]
  },
  {
   "cell_type": "code",
   "execution_count": 249,
   "id": "fbf03274",
   "metadata": {},
   "outputs": [],
   "source": [
    "# create symbolic input\n",
    "x = T.matrix(\"X\")\n",
    "# symbolic number of samples is supported, we build vectorized posterior on the fly\n",
    "n = T.iscalar(\"n\")\n",
    "# Do not forget test_values or set theano.config.compute_test_value = 'off'\n",
    "x.tag.test_value = np.empty_like(X_train[:10])\n",
    "n.tag.test_value = 100\n",
    "_sample_proba = approx.sample_node(\n",
    "    neural_network.out.distribution.p, size=n, more_replacements={neural_network[\"ann_input\"]: x}\n",
    ")\n",
    "# It is time to compile the function\n",
    "# No updates are needed for Approximation random generator\n",
    "# Efficient vectorized form of sampling is used\n",
    "sample_proba = theano.function([x, n], _sample_proba)\n",
    "\n",
    "# Create bechmark functions\n",
    "def production_step1():\n",
    "    pm.set_data(new_data={\"ann_input\": X_test, \"ann_output\": Y_test}, model=neural_network)\n",
    "    ppc = pm.sample_posterior_predictive(trace, samples=500, progressbar=False, model=neural_network)\n",
    "    # Use probability of > 0.5 to assume prediction of class 1\n",
    "    pred = ppc[\"out\"].mean(axis=0) > 0.5\n",
    "\n",
    "def production_step2():\n",
    "    sample_proba(X_test, 500).mean(0) > 0.5"
   ]
  },
  {
   "cell_type": "code",
   "execution_count": 250,
   "id": "f861fbf1",
   "metadata": {},
   "outputs": [
    {
     "name": "stdout",
     "output_type": "stream",
     "text": [
      "12.1 s ± 2.4 s per loop (mean ± std. dev. of 7 runs, 1 loop each)\n"
     ]
    }
   ],
   "source": [
    "%timeit production_step1()"
   ]
  },
  {
   "cell_type": "code",
   "execution_count": 251,
   "id": "29a4dea9",
   "metadata": {},
   "outputs": [
    {
     "name": "stdout",
     "output_type": "stream",
     "text": [
      "50.2 ms ± 13.7 ms per loop (mean ± std. dev. of 7 runs, 10 loops each)\n"
     ]
    }
   ],
   "source": [
    "%timeit production_step2()"
   ]
  },
  {
   "cell_type": "code",
   "execution_count": 267,
   "id": "92dfe9a1",
   "metadata": {},
   "outputs": [
    {
     "data": {
      "text/plain": [
       "(167, 180)"
      ]
     },
     "execution_count": 267,
     "metadata": {},
     "output_type": "execute_result"
    }
   ],
   "source": [
    "pred = sample_proba(X_test, 20).mean(0) > 0.5\n",
    "count = 0\n",
    "i = 0\n",
    "lim = X_test.shape[0]\n",
    "while(i<lim):\n",
    "    if (int(pred[i])==int(Y_test[i])):\n",
    "        count = count + 1\n",
    "    i = i + 1\n",
    "count,lim"
   ]
  },
  {
   "cell_type": "code",
   "execution_count": 270,
   "id": "e70b1bf8",
   "metadata": {},
   "outputs": [],
   "source": [
    "tests = pd.read_csv(\"outputs.csv\")\n",
    "X1 = tests.iloc[:,[0,1]].values\n",
    "X1 = scale(X1)\n",
    "X1 = X1.astype(floatX)\n",
    "Y1 = Y1.astype(floatX)\n",
    "Y1 = tests.iloc[:,-1].values"
   ]
  },
  {
   "cell_type": "code",
   "execution_count": 271,
   "id": "32164d3b",
   "metadata": {},
   "outputs": [
    {
     "data": {
      "text/plain": [
       "(87, 96)"
      ]
     },
     "execution_count": 271,
     "metadata": {},
     "output_type": "execute_result"
    }
   ],
   "source": [
    "pred = sample_proba(X1, 20).mean(0) > 0.5\n",
    "count = 0\n",
    "i = 0\n",
    "lim = X1.shape[0]\n",
    "while(i<lim):\n",
    "    if (int(pred[i])==int(Y1[i])):\n",
    "        count = count + 1\n",
    "    i = i + 1\n",
    "count,lim"
   ]
  },
  {
   "cell_type": "markdown",
   "id": "9143209a",
   "metadata": {},
   "source": [
    "### Red Neuronal Convulocional\n",
    "#### https://docs.pymc.io/en/stable/pymc-examples/examples/variational_inference/bayesian_neural_network_advi.html\n",
    "### Pandas\n",
    "#### https://pandas.pydata.org/pandas-docs/version/0.25.1/reference/api/pandas.DataFrame.as_matrix.html"
   ]
  },
  {
   "cell_type": "code",
   "execution_count": null,
   "id": "5329878a",
   "metadata": {},
   "outputs": [],
   "source": []
  }
 ],
 "metadata": {
  "kernelspec": {
   "display_name": "Python 3 (ipykernel)",
   "language": "python",
   "name": "python3"
  },
  "language_info": {
   "codemirror_mode": {
    "name": "ipython",
    "version": 3
   },
   "file_extension": ".py",
   "mimetype": "text/x-python",
   "name": "python",
   "nbconvert_exporter": "python",
   "pygments_lexer": "ipython3",
   "version": "3.9.7"
  }
 },
 "nbformat": 4,
 "nbformat_minor": 5
}
