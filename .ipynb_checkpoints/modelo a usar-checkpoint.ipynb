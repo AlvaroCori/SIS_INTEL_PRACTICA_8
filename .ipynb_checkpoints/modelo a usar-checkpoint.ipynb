{
 "cells": [
  {
   "cell_type": "code",
   "execution_count": 32,
   "id": "f3bd7542",
   "metadata": {},
   "outputs": [],
   "source": [
    "import pomegranate as pg\n"
   ]
  },
  {
   "cell_type": "code",
   "execution_count": 33,
   "id": "80a91cbd",
   "metadata": {},
   "outputs": [],
   "source": [
    "smokeD = pg.DiscreteDistribution({'yes': 0.25, 'no': 0.75})\n",
    "covidD = pg.DiscreteDistribution({'yes': 0.1, 'no': 0.9})\n",
    "hospitalD = pg.ConditionalProbabilityTable(\n",
    "    [['yes', 'yes', 'yes', 0.9], ['yes', 'yes', 'no', 0.1],\n",
    "     ['yes', 'no', 'yes', 0.1], ['yes', 'no', 'no', 0.9],\n",
    "     ['no', 'yes', 'yes', 0.9], ['no', 'yes', 'no', 0.1],\n",
    "     ['no', 'no', 'yes', 0.01], ['no', 'no', 'no', 0.99]],\n",
    "    [smokeD, covidD])\n",
    "\n",
    "smoke = pg.Node(smokeD, name=\"smokeD\")\n",
    "covid = pg.Node(covidD, name=\"covidD\")\n",
    "hospital = pg.Node(hospitalD, name=\"hospitalD\")\n",
    "\n",
    "model = pg.BayesianNetwork(\"Covid Collider\")\n",
    "model.add_states(smoke, covid, hospital)\n",
    "model.add_edge(smoke, hospital)\n",
    "model.add_edge(covid, hospital)\n",
    "model.bake()"
   ]
  },
  {
   "cell_type": "code",
   "execution_count": 34,
   "id": "8654f271",
   "metadata": {},
   "outputs": [
    {
     "data": {
      "text/plain": [
       "array(['yes', {\n",
       "                  \"class\" : \"Distribution\",\n",
       "                  \"dtype\" : \"str\",\n",
       "                  \"name\" : \"DiscreteDistribution\",\n",
       "                  \"parameters\" : [\n",
       "                      {\n",
       "                          \"yes\" : 0.5000000000000007,\n",
       "                          \"no\" : 0.49999999999999944\n",
       "                      }\n",
       "                  ],\n",
       "                  \"frozen\" : false\n",
       "              }                                      , 'yes'],\n",
       "      dtype=object)"
      ]
     },
     "execution_count": 34,
     "metadata": {},
     "output_type": "execute_result"
    }
   ],
   "source": [
    "model.predict_proba({'smokeD': 'yes', 'hospitalD': 'yes'})"
   ]
  },
  {
   "cell_type": "code",
   "execution_count": 35,
   "id": "047301bb",
   "metadata": {},
   "outputs": [
    {
     "data": {
      "text/plain": [
       "array(['no', {\n",
       "                 \"class\" : \"Distribution\",\n",
       "                 \"dtype\" : \"str\",\n",
       "                 \"name\" : \"DiscreteDistribution\",\n",
       "                 \"parameters\" : [\n",
       "                     {\n",
       "                         \"yes\" : 0.9090909090909077,\n",
       "                         \"no\" : 0.09090909090909226\n",
       "                     }\n",
       "                 ],\n",
       "                 \"frozen\" : false\n",
       "             }                                      , 'yes'], dtype=object)"
      ]
     },
     "execution_count": 35,
     "metadata": {},
     "output_type": "execute_result"
    }
   ],
   "source": [
    "model.predict_proba({'smokeD': 'no', 'hospitalD': 'yes'})"
   ]
  },
  {
   "cell_type": "code",
   "execution_count": 36,
   "id": "32fbfda4",
   "metadata": {},
   "outputs": [],
   "source": [
    "import pymc3 as pm\n",
    "import numpy as np\n",
    "\n",
    "import theano\n",
    "import theano.tensor as tt\n",
    "\n",
    "names = ['martin_oversleeps', 'train_strike', 'martin_late', 'norman_late']\n",
    "\n",
    "# P(martin_late|train_strike, martin_oversleeps) -------------------------\n",
    "\n",
    "martin_late_lookup = theano.shared(np.asarray([\n",
    "    [[.7, .3], [.4, .6]],\n",
    "    [[.4, .6], [.2, .8]]]))\n",
    "\n",
    "def p_martin_late(train_strike, martin_oversleeps):\n",
    "    return martin_late_lookup[train_strike, martin_oversleeps]\n",
    "\n",
    "# P(norman_late|train_strike) --------------------------------------------\n",
    "p_norman_late_lookup = theano.shared(np.asarray([[0.9, .1], [.2, .8]]))\n",
    "\n",
    "def p_norman_late(train_strike):\n",
    "    return p_norman_late_lookup[train_strike]\n",
    "\n",
    "# Build model ------------------------------------------------------------\n",
    "with pm.Model() as m:\n",
    "    martin_oversleeps = pm.Categorical('martin_oversleeps', [.6, .4])\n",
    "    train_strike = pm.Categorical('train_strike', [.9, .1])\n",
    "    norman_late = pm.Categorical('norman_late', \n",
    "                                 p_norman_late(train_strike))\n",
    "    martin_late = pm.Categorical('martin_late', \n",
    "                                 p_martin_late(train_strike, martin_oversleeps))\n",
    "    prior = pm.sample_prior_predictive(500_000)"
   ]
  },
  {
   "cell_type": "code",
   "execution_count": null,
   "id": "576671e1",
   "metadata": {},
   "outputs": [],
   "source": [
    "def marginal_distributions(trace, names):\n",
    "    \"\"\"Samples from the prior.\n",
    "    trace = samples from prior\n",
    "    names = list of strings of node names\n",
    "    \"\"\"\n",
    "    for name in names:\n",
    "        print(f\"P({name}) = {trace[name].mean()*100:.2f}%\")\n",
    "\n",
    "def conditional_probabilities(trace, names, evidence):\n",
    "    \"\"\"Output the probabilities of all the variables, conditioned on the evidence.\n",
    "    trace = samples from prior\n",
    "    names = list of strings of node names\n",
    "    evidence = {'norman_late': 1, 'martin_late': 1} (for example)\n",
    "    \"\"\"\n",
    "    \n",
    "    n_samples = len(list(trace.values())[0])\n",
    "    \n",
    "    for name in names:\n",
    "\n",
    "        # Calculate Boolean subset of samples confiorming to the evidence\n",
    "        subset = np.full(n_samples, True, dtype=bool)\n",
    "        for key, val in evidence.items():\n",
    "            subset = (subset) & (trace[key] == val)\n",
    "\n",
    "        # Calculate mean of variable of interest consistent with the evidence\n",
    "        prob = trace[name][subset == 1].mean()\n",
    "\n",
    "        # Compose string\n",
    "        string = f\"P({name} | \"\n",
    "        for key, value in evidence.items():\n",
    "            string += key + f\" = {value}\"\n",
    "            string += \", \"\n",
    "        string += f\") = {prob*100:.2f}%\"\n",
    "        \n",
    "        print(string)"
   ]
  },
  {
   "cell_type": "code",
   "execution_count": null,
   "id": "0fea3900",
   "metadata": {},
   "outputs": [],
   "source": [
    "marginal_distributions(prior, names)"
   ]
  },
  {
   "cell_type": "code",
   "execution_count": null,
   "id": "affb2182",
   "metadata": {},
   "outputs": [],
   "source": [
    "P(martin_oversleeps) = 40.00%\n",
    "P(train_strike) = 10.07%\n",
    "P(martin_late) = 44.58%\n",
    "P(norman_late) = 17.01%"
   ]
  },
  {
   "cell_type": "code",
   "execution_count": null,
   "id": "2a1c7d7a",
   "metadata": {},
   "outputs": [],
   "source": [
    "conditional_probabilities(prior, names, {'norman_late': 1, 'martin_late': 1})"
   ]
  }
 ],
 "metadata": {
  "kernelspec": {
   "display_name": "Python 3 (ipykernel)",
   "language": "python",
   "name": "python3"
  },
  "language_info": {
   "codemirror_mode": {
    "name": "ipython",
    "version": 3
   },
   "file_extension": ".py",
   "mimetype": "text/x-python",
   "name": "python",
   "nbconvert_exporter": "python",
   "pygments_lexer": "ipython3",
   "version": "3.9.7"
  }
 },
 "nbformat": 4,
 "nbformat_minor": 5
}
