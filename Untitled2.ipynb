{
 "cells": [
  {
   "cell_type": "code",
   "execution_count": 13,
   "id": "0f6a9e76",
   "metadata": {},
   "outputs": [
    {
     "data": {
      "text/plain": [
       "array(['no', {\n",
       "                 \"class\" : \"Distribution\",\n",
       "                 \"dtype\" : \"str\",\n",
       "                 \"name\" : \"DiscreteDistribution\",\n",
       "                 \"parameters\" : [\n",
       "                     {\n",
       "                         \"yes\" : 0.9090909090909077,\n",
       "                         \"no\" : 0.09090909090909226\n",
       "                     }\n",
       "                 ],\n",
       "                 \"frozen\" : false\n",
       "             }                                      , 'yes'], dtype=object)"
      ]
     },
     "execution_count": 13,
     "metadata": {},
     "output_type": "execute_result"
    }
   ],
   "source": [
    "import pomegranate as pg\n",
    "\n",
    " \n",
    "\n",
    "smokeD = pg.DiscreteDistribution({'yes': 0.25, 'no': 0.75})\n",
    "\n",
    "covidD = pg.DiscreteDistribution({'yes': 0.1, 'no': 0.9})\n",
    "\n",
    "hospitalD = pg.ConditionalProbabilityTable(\n",
    "\n",
    "    [['yes', 'yes', 'yes', 0.9], ['yes', 'yes', 'no', 0.1],\n",
    "\n",
    "['yes', 'no', 'yes', 0.1], ['yes', 'no', 'no', 0.9],['no', 'yes', 'yes', 0.9], ['no', 'yes', 'no', 0.1],\n",
    "\n",
    "     ['no', 'no', 'yes', 0.01], ['no', 'no', 'no', 0.99]],\n",
    "\n",
    "    [smokeD, covidD])\n",
    "\n",
    " \n",
    "\n",
    "smoke = pg.Node(smokeD, name=\"smokeD\")\n",
    "\n",
    "covid = pg.Node(covidD, name=\"covidD\")\n",
    "\n",
    "hospital = pg.Node(hospitalD, name=\"hospitalD\")\n",
    "\n",
    " \n",
    "\n",
    "model = pg.BayesianNetwork(\"Covid Collider\")\n",
    "\n",
    "model.add_states(smoke, covid, hospital)\n",
    "\n",
    "model.add_edge(smoke, hospital)\n",
    "\n",
    "model.add_edge(covid, hospital)\n",
    "\n",
    "model.bake()\n",
    "\n",
    "#You could then calculate P(covid|smoking, hospital) = 0.5 with\n",
    "\n",
    "model.predict_proba({'smokeD': 'yes', 'hospitalD': 'yes'})\n",
    "\n",
    "#and P(covid|¬smoking, hospital)=0.91 with\n",
    "\n",
    "model.predict_proba({'smokeD': 'no', 'hospitalD': 'yes'})"
   ]
  },
  {
   "cell_type": "code",
   "execution_count": 1,
   "id": "a3b2928d",
   "metadata": {},
   "outputs": [
    {
     "name": "stderr",
     "output_type": "stream",
     "text": [
      "WARNING (theano.tensor.blas): Using NumPy C-API based implementation for BLAS functions.\n"
     ]
    }
   ],
   "source": [
    "import numpy\n",
    "\n",
    "import networkx\n",
    "import scipy.stats\n",
    "import matplotlib.pyplot as plt\n",
    "import pandas as pd\n",
    "import pymc3 as pm"
   ]
  },
  {
   "cell_type": "code",
   "execution_count": 24,
   "id": "319aea4a",
   "metadata": {
    "scrolled": true
   },
   "outputs": [
    {
     "ename": "SyntaxError",
     "evalue": "invalid syntax (bn.py, line 50)",
     "output_type": "error",
     "traceback": [
      "Traceback \u001b[1;36m(most recent call last)\u001b[0m:\n",
      "  File \u001b[0;32m\"C:\\Python39\\lib\\site-packages\\IPython\\core\\interactiveshell.py\"\u001b[0m, line \u001b[0;32m3444\u001b[0m, in \u001b[0;35mrun_code\u001b[0m\n    exec(code_obj, self.user_global_ns, self.user_ns)\n",
      "\u001b[1;36m  File \u001b[1;32m\"C:\\Users\\ABC\\AppData\\Local\\Temp/ipykernel_6704/556800963.py\"\u001b[1;36m, line \u001b[1;32m1\u001b[1;36m, in \u001b[1;35m<module>\u001b[1;36m\u001b[0m\n\u001b[1;33m    from bn.BayesianNetwork import BayesianNetwork\u001b[0m\n",
      "\u001b[1;36m  File \u001b[1;32m\"C:\\Python39\\lib\\site-packages\\bn.py\"\u001b[1;36m, line \u001b[1;32m50\u001b[0m\n\u001b[1;33m    sorted(self.stats.iteritems(), key=lambda (key, seconds): -seconds)\u001b[0m\n\u001b[1;37m                                              ^\u001b[0m\n\u001b[1;31mSyntaxError\u001b[0m\u001b[1;31m:\u001b[0m invalid syntax\n"
     ]
    }
   ],
   "source": [
    "from bn.bayesian_network import BayesianNetwork\n",
    "from bn.dag import DAG\n",
    "from bn.dag_prior import DAGPrior\n",
    "from bn.sampler import StructureMCMC\n",
    "from bn.variable import Variable"
   ]
  },
  {
   "cell_type": "code",
   "execution_count": null,
   "id": "88fb2645",
   "metadata": {},
   "outputs": [],
   "source": []
  }
 ],
 "metadata": {
  "kernelspec": {
   "display_name": "Python 3 (ipykernel)",
   "language": "python",
   "name": "python3"
  },
  "language_info": {
   "codemirror_mode": {
    "name": "ipython",
    "version": 3
   },
   "file_extension": ".py",
   "mimetype": "text/x-python",
   "name": "python",
   "nbconvert_exporter": "python",
   "pygments_lexer": "ipython3",
   "version": "3.9.7"
  }
 },
 "nbformat": 4,
 "nbformat_minor": 5
}
